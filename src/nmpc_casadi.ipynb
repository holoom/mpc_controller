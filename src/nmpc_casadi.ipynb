{
 "cells": [
  {
   "cell_type": "code",
   "execution_count": 144,
   "metadata": {},
   "outputs": [],
   "source": [
    "import casadi as ca\n",
    "import numpy as np"
   ]
  },
  {
   "cell_type": "code",
   "execution_count": 145,
   "metadata": {},
   "outputs": [],
   "source": [
    "#\n",
    "dt = 0.01\n",
    "N = 10;\n",
    "# gravity\n",
    "_gz = 9.81\n",
    "# thrust and angular rates limits\n",
    "_w_max_yaw = 6.0\n",
    "_w_max_xy = 6.0\n",
    "_thrust_min = 2.0\n",
    "_thrust_max = 20.0\n",
    "_s_dim = 10\n",
    "_u_dim = 4"
   ]
  },
  {
   "cell_type": "code",
   "execution_count": 146,
   "metadata": {},
   "outputs": [],
   "source": [
    "#Cost matrix for tracking the goal point\n",
    "Q = np.diag([\n",
    "            100, 100, 100,  # delta_x, delta_y, delta_z\n",
    "            10, 10, 10, 10, # delta_qw, delta_qx, delta_qy, delta_qz\n",
    "            10, 10, 10])\n",
    "\n",
    "# cost matrix for the action\n",
    "R = np.diag([0.1, 0.1, 0.1, 0.1]) # T, wx, wy, wz"
   ]
  },
  {
   "cell_type": "code",
   "execution_count": 147,
   "metadata": {},
   "outputs": [],
   "source": [
    "#states\n",
    "px, py, pz = ca.MX.sym('px'), ca.MX.sym('py'), ca.MX.sym('pz')\n",
    "        #\n",
    "qw, qx, qy, qz = ca.MX.sym('qw'), ca.MX.sym('qx'), ca.MX.sym('qy'), \\\n",
    "    ca.MX.sym('qz')\n",
    "#\n",
    "vx, vy, vz = ca.MX.sym('vx'), ca.MX.sym('vy'), ca.MX.sym('vz')\n",
    "\n",
    "# -- conctenated vector\n",
    "_x = ca.vertcat(px, py, pz, qw, qx, qy, qz, vx, vy, vz) "
   ]
  },
  {
   "cell_type": "code",
   "execution_count": 148,
   "metadata": {},
   "outputs": [],
   "source": [
    "#control command\n",
    "thrust, wx, wy, wz = ca.MX.sym('thrust'), ca.MX.sym('wx'), \\\n",
    "            ca.MX.sym('wy'), ca.MX.sym('wz')\n",
    "_u = ca.vertcat(thrust, wx, wy, wz)"
   ]
  },
  {
   "cell_type": "code",
   "execution_count": 149,
   "metadata": {},
   "outputs": [],
   "source": [
    "# system dynamics\n",
    "x_dot = ca.vertcat(\n",
    "            vx,\n",
    "            vy,\n",
    "            vz,\n",
    "            0.5 * ( -wx*qx - wy*qy - wz*qz ),\n",
    "            0.5 * (  wx*qw + wz*qy - wy*qz ),\n",
    "            0.5 * (  wy*qw - wz*qx + wx*qz ),\n",
    "            0.5 * (  wz*qw + wy*qx - wx*qy ),\n",
    "            2 * ( qw*qy + qx*qz ) * thrust,\n",
    "            2 * ( qy*qz - qw*qx ) * thrust, \n",
    "            (qw*qw - qx*qx -qy*qy + qz*qz) * thrust - _gz\n",
    "        )\n",
    "\n",
    "        #\n",
    "f = ca.Function('f', [_x, _u], [x_dot], ['x', 'u'], ['ode'])"
   ]
  },
  {
   "cell_type": "code",
   "execution_count": 150,
   "metadata": {},
   "outputs": [
    {
     "data": {
      "text/plain": [
       "Function(f:(x[10],u[4])->(ode[10]) MXFunction)"
      ]
     },
     "execution_count": 150,
     "metadata": {},
     "output_type": "execute_result"
    }
   ],
   "source": [
    "f"
   ]
  },
  {
   "cell_type": "code",
   "execution_count": 151,
   "metadata": {},
   "outputs": [],
   "source": [
    "# RK4 integration\n",
    "k1 = f(_x, _u)\n",
    "k2 = f(_x + dt/2*k1, _u)\n",
    "k3 = f(_x + dt/2*k2, _u)\n",
    "k4 = f(_x + dt * k3, _u)\n",
    "x_next = _x + (dt / 6) * (k1 + 2 * k2 + 2 * k3 + k4)\n",
    "F = ca.Function('F', [_x, _u], [x_next], ['x', 'u'], ['F'])"
   ]
  },
  {
   "cell_type": "code",
   "execution_count": 152,
   "metadata": {},
   "outputs": [
    {
     "data": {
      "text/plain": [
       "Function(F:(x[10],u[4])->(F[10]) MXFunction)"
      ]
     },
     "execution_count": 152,
     "metadata": {},
     "output_type": "execute_result"
    }
   ],
   "source": [
    "F"
   ]
  },
  {
   "cell_type": "code",
   "execution_count": 153,
   "metadata": {},
   "outputs": [
    {
     "data": {
      "text/plain": [
       "Function(F_acc10:(x[10],u[4x10])->(F[10x10]) MXFunction)"
      ]
     },
     "execution_count": 153,
     "metadata": {},
     "output_type": "execute_result"
    }
   ],
   "source": [
    "sim = F.mapaccum(N)\n",
    "sim"
   ]
  },
  {
   "cell_type": "code",
   "execution_count": 154,
   "metadata": {},
   "outputs": [],
   "source": [
    "opti = ca.Opti()\n",
    "X = opti.variable(_s_dim,N+1)\n",
    "U = opti.variable(_u_dim, N)\n",
    "P = opti.parameter(_s_dim * 2) # contains the current state and target state"
   ]
  },
  {
   "cell_type": "code",
   "execution_count": 155,
   "metadata": {},
   "outputs": [],
   "source": [
    "u_min = [_thrust_min, -_w_max_xy, -_w_max_xy, -_w_max_yaw]\n",
    "u_max = [_thrust_max,  _w_max_xy,  _w_max_xy,  _w_max_yaw]"
   ]
  },
  {
   "cell_type": "code",
   "execution_count": 156,
   "metadata": {},
   "outputs": [
    {
     "data": {
      "text/plain": [
       "[2.0, -6.0, -6.0, -6.0]"
      ]
     },
     "execution_count": 156,
     "metadata": {},
     "output_type": "execute_result"
    }
   ],
   "source": [
    "u_min"
   ]
  },
  {
   "cell_type": "code",
   "execution_count": 157,
   "metadata": {},
   "outputs": [],
   "source": [
    "mpc_obj = 0\n",
    "for k in range(N):\n",
    "    st = X[:, k]\n",
    "    st_next = X[:, k+1]\n",
    "    con = U[:, k] - [_gz , 0, 0, 0]\n",
    "    mpc_obj += (st - P[_s_dim:]).T @ Q @ (st - P[_s_dim:]) \\\n",
    "                    + con.T @ R @ con\n",
    "    st_next_RK4 = F(st, con)\n",
    "    opti.subject_to(st_next_RK4==st_next)\n",
    "    opti.subject_to(con>= u_min)\n",
    "    opti.subject_to(con<=u_max)\n",
    "    \n",
    "opti.subject_to(X[:,0] == P[:_s_dim])\n",
    "opti.minimize(mpc_obj)"
   ]
  },
  {
   "cell_type": "code",
   "execution_count": 158,
   "metadata": {},
   "outputs": [
    {
     "data": {
      "text/plain": [
       "Opti(Opti {\n",
       "  instance #4\n",
       "  #variables: 2 (nx = 150)\n",
       "  #parameters: 1 (np = 20)\n",
       "  #constraints: 31 (ng = 190)\n",
       "  CasADi solver needs updating.\n",
       "})"
      ]
     },
     "execution_count": 158,
     "metadata": {},
     "output_type": "execute_result"
    }
   ],
   "source": [
    "opti"
   ]
  },
  {
   "cell_type": "code",
   "execution_count": 159,
   "metadata": {},
   "outputs": [],
   "source": [
    "opts = {\n",
    "            'ipopt': {\n",
    "                'max_iter': 2000,\n",
    "                'print_level': 0,\n",
    "                'acceptable_tol': 1e-8,\n",
    "                'acceptable_obj_change_tol': 1e-6\n",
    "            },\n",
    "            'print_time': 0\n",
    "        }\n",
    "\n",
    "opti.solver('ipopt', opts)"
   ]
  },
  {
   "cell_type": "code",
   "execution_count": 160,
   "metadata": {},
   "outputs": [],
   "source": [
    "state_current = np.array([0, 0 , 0, 0, 0, 0, 0, 0, 0, 0])\n",
    "state_target = np.array([0, 0 , 0, 0, 0, 0, 0, 0, 0, 0])\n",
    "param = np.concatenate((state_current, state_target))\n"
   ]
  },
  {
   "cell_type": "code",
   "execution_count": 161,
   "metadata": {},
   "outputs": [],
   "source": [
    "opti.set_value(P, param)\n"
   ]
  },
  {
   "cell_type": "code",
   "execution_count": 162,
   "metadata": {},
   "outputs": [],
   "source": [
    "sol = opti.solve()"
   ]
  },
  {
   "cell_type": "code",
   "execution_count": 163,
   "metadata": {},
   "outputs": [],
   "source": [
    "u_opt = sol.value(U)"
   ]
  },
  {
   "cell_type": "code",
   "execution_count": 164,
   "metadata": {},
   "outputs": [
    {
     "data": {
      "text/plain": [
       "array([11.80999999,  0.        ,  0.        ,  0.        ])"
      ]
     },
     "execution_count": 164,
     "metadata": {},
     "output_type": "execute_result"
    }
   ],
   "source": [
    "u_opt[:,0]"
   ]
  },
  {
   "cell_type": "code",
   "execution_count": 165,
   "metadata": {},
   "outputs": [],
   "source": [
    "M =opti.to_function('mpc', [P],[U[:,0]], ['p'], ['u_opt'] )"
   ]
  },
  {
   "cell_type": "code",
   "execution_count": 166,
   "metadata": {},
   "outputs": [],
   "source": [
    "M.save('NMPC.casadi')\n",
    "M2 = ca.Function.load('NMPC.casadi')"
   ]
  },
  {
   "cell_type": "code",
   "execution_count": 167,
   "metadata": {},
   "outputs": [],
   "source": [
    "\n",
    "state_current = np.array([3.91536618, -0.02897329 , 1.37337641, 1, 0, 0, 0, 0, 0, 0])\n",
    "state_target = np.array([3.91536618, -0.02897329 , 1.37337641, 1, 0, 0, 0, 0, 0, 0])\n",
    "param = np.concatenate((state_current, state_target))"
   ]
  },
  {
   "cell_type": "code",
   "execution_count": 168,
   "metadata": {},
   "outputs": [],
   "source": [
    "opt_u = M2(param)"
   ]
  },
  {
   "cell_type": "code",
   "execution_count": 169,
   "metadata": {},
   "outputs": [
    {
     "data": {
      "text/plain": [
       "13.036033161541289"
      ]
     },
     "execution_count": 169,
     "metadata": {},
     "output_type": "execute_result"
    }
   ],
   "source": [
    "opt_u.toarray()[0,0]"
   ]
  }
 ],
 "metadata": {
  "kernelspec": {
   "display_name": ".venv",
   "language": "python",
   "name": "python3"
  },
  "language_info": {
   "codemirror_mode": {
    "name": "ipython",
    "version": 3
   },
   "file_extension": ".py",
   "mimetype": "text/x-python",
   "name": "python",
   "nbconvert_exporter": "python",
   "pygments_lexer": "ipython3",
   "version": "3.8.10"
  }
 },
 "nbformat": 4,
 "nbformat_minor": 2
}
